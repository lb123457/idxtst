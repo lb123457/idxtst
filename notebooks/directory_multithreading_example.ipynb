{
 "cells": [
  {
   "cell_type": "code",
   "execution_count": null,
   "metadata": {},
   "outputs": [],
   "source": [
    "import os\n",
    "import re\n",
    "from multiprocessing.dummy import Pool as ThreadPool \n",
    "\n",
    "\n",
    "file_list = []\n",
    "dir_list = []\n",
    "\n",
    "regexp = r'.*[.]log'\n",
    "\n",
    "# Gets a list of files and directory that match a certain pattern\n",
    "for root, dirs, files in os.walk(\"/Users/ludovicbreger/.config\", topdown=False):\n",
    "    for name in files:\n",
    "        print(os.path.join(root, name))\n",
    "        if re.match(regexp, name, re.M|re.I):\n",
    "            file_list.append(os.path.join(root, name))\n",
    "      \n",
    "    for name in dirs:\n",
    "        print('dir = ' + os.path.join(root, name))\n",
    "        dir_list.append(name)\n",
    "      \n",
    "\n",
    "sample_list = file_list[0:100] \n",
    "\n",
    "\n",
    "# Test function that takes two arguments\n",
    "def test_function(file1, file2):\n",
    "    return file1 + '----' + file2\n",
    "\n",
    "# Example of function that takes one argument\n",
    "def wc_regular(file):\n",
    "    return sum(1 for ln in open(file))\n",
    "\n",
    "# Makes the pool of workers\n",
    "pool = ThreadPool(4) \n",
    "\n",
    "# Dispatches the work\n",
    "results = pool.map(wc_regular, sample_list)\n",
    "\n",
    "# Closes the pool and wait for the work to finish \n",
    "pool.close() \n",
    "pool.join() \n",
    "\n",
    "# Prints the results\n",
    "print(results)\n",
    "\n",
    "\n",
    "# Makes the pool of workers for the two argument example\n",
    "pool = ThreadPool(4)\n",
    "\n",
    "results2 = pool.starmap(test_function, zip(sample_list, sample_list))\n",
    "\n",
    "# Closes the pool and wait for the work to finish \n",
    "pool.close() \n",
    "pool.join() \n",
    "\n",
    "print(results2)\n"
   ]
  },
  {
   "cell_type": "code",
   "execution_count": null,
   "metadata": {},
   "outputs": [],
   "source": [
    "p2 = subprocess.Popen([\"grep\", \"-c\", \"test\"], stdin=p1.stdout, stdout=subprocess.PIPE)\n"
   ]
  },
  {
   "cell_type": "code",
   "execution_count": null,
   "metadata": {},
   "outputs": [],
   "source": [
    "import subprocess\n",
    "results = subprocess.check_output(\"zcat < /Users/ludovicbreger/Library/Logs/CoreSimulator/A60C2210-E1E6-408E-8338-912F7A8B4BFC/system.log.1.gz | wc\", shell=True)"
   ]
  },
  {
   "cell_type": "code",
   "execution_count": null,
   "metadata": {},
   "outputs": [],
   "source": [
    "results"
   ]
  },
  {
   "cell_type": "code",
   "execution_count": null,
   "metadata": {},
   "outputs": [],
   "source": [
    "str(results)"
   ]
  },
  {
   "cell_type": "code",
   "execution_count": null,
   "metadata": {},
   "outputs": [],
   "source": [
    "int(re.split(r'\\D+', str(results))[1])"
   ]
  }
 ],
 "metadata": {
  "kernelspec": {
   "display_name": "Python 3",
   "language": "python",
   "name": "python3"
  },
  "language_info": {
   "codemirror_mode": {
    "name": "ipython",
    "version": 3
   },
   "file_extension": ".py",
   "mimetype": "text/x-python",
   "name": "python",
   "nbconvert_exporter": "python",
   "pygments_lexer": "ipython3",
   "version": "3.6.3"
  }
 },
 "nbformat": 4,
 "nbformat_minor": 2
}
